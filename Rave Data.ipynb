{
 "cells": [
  {
   "cell_type": "code",
   "execution_count": 4,
   "metadata": {
    "collapsed": false
   },
   "outputs": [
    {
     "name": "stdout",
     "output_type": "stream",
     "text": [
      "Male\n"
     ]
    }
   ],
   "source": [
    "import openpyxl\n",
    "\n",
    "book = openpyxl.load_workbook('data.xlsx')\n",
    "\n",
    "sheet1 = book.get_sheet_by_name(\"Table 2\")\n",
    "\n",
    "print (sheet1['A5'].value)\n",
    "\n",
    "\n"
   ]
  },
  {
   "cell_type": "code",
   "execution_count": 59,
   "metadata": {
    "collapsed": false
   },
   "outputs": [
    {
     "name": "stdout",
     "output_type": "stream",
     "text": [
      "[[[u'Characteristic/Condition'], [u'No.'], [u'(%)']], [], [[u'Female'], [9L], [-50L]], [[u'Male'], [9L], [-50L]], [], [[u'Asian/Pacific Islander'], [5L], [-28L]], [[u'Hispanic'], [5L], [-28L]], [[u'Black'], [0L], [u'\\u2014']], [[u'White, non-Hispanic'], [6L], [-33L]], [[u'Other'], [2L], [-11L]], [], [[u'Los Angeles County resident'], [9L], [-50L]], [], [[u'None'], [9L], [-50L]], [[u'Private'], [9L], [-50L]], [[u'Public'], [0L], [u'\\u2014']], [], [[u'Alcohol use'], [10L], [-56L]], [[u'Other drug use'], [5L], [-28L]], [], [[u'Hypertension (SBP >140/90 mmHg)'], [10L], [-56L]], [[u'Tachycardia (HR  >100 beats/min)'], [10L], [-56L]], [[u'Tachypnea (RR  >20 breaths/min)'], [15L], [-83L]], [], [[u'Agitation/Aggression'], [16L], [-89L]], [[u'Mydriasis'], [8L], [-44L]], [[u'Seizure'], [2L], [-11L]], [[u'Rhabdomyolysis\\u2020'], [2L], [-11L]], [[u'Hyponatremia\\xa7'], [2L], [-11L]], [], [[u'Treated and released'], [14L], [-78L]], [[u'Admitted\\xb6'], [3L], [-17L]], [[u'Other**'], [1L], [-6L]]]\n"
     ]
    }
   ],
   "source": [
    "row =[1, 5, 6]\n",
    "col =[3, 6, 12, 14, 18, 21, 25, 31]\n",
    "\n",
    "array = []\n",
    "for i in range(2, 35):\n",
    "    array.append([])\n",
    "    for j in row:\n",
    "        #sheet1.cell(row = i, column = j).value\n",
    "        if i not in col:  \n",
    "            array[i-2].append([sheet1.cell(row=i, column=j).value])\n",
    "        \n",
    "        \n",
    "print (array)"
   ]
  },
  {
   "cell_type": "code",
   "execution_count": 64,
   "metadata": {
    "collapsed": false
   },
   "outputs": [
    {
     "name": "stdout",
     "output_type": "stream",
     "text": [
      "[u'Characteristic/Condition', u'Female', u'Male', u'Asian/Pacific Islander', u'Hispanic', u'Black', u'White, non-Hispanic', u'Other', u'Los Angeles County resident', u'None', u'Private', u'Public', u'Alcohol use', u'Other drug use', u'Hypertension (SBP >140/90 mmHg)', u'Tachycardia (HR  >100 beats/min)', u'Tachypnea (RR  >20 breaths/min)', u'Agitation/Aggression', u'Mydriasis', u'Seizure', u'Rhabdomyolysis\\u2020', u'Hyponatremia\\xa7', u'Treated and released', u'Admitted\\xb6', u'Other**']\n"
     ]
    }
   ],
   "source": [
    "row =[1, 5, 6]\n",
    "col =[3, 6, 12, 14, 18, 21, 25, 31]\n",
    "names = []\n",
    "\n",
    "for i in range (2, 35):\n",
    "    array.append([])\n",
    "    #for j in row:\n",
    "    if i not in col:\n",
    "        names.append(sheet1.cell(row=i, column=1).value)\n",
    "        \n",
    "print (names)\n"
   ]
  },
  {
   "cell_type": "code",
   "execution_count": 65,
   "metadata": {
    "collapsed": false
   },
   "outputs": [
    {
     "name": "stdout",
     "output_type": "stream",
     "text": [
      "[u'No.', None, 9L, 9L, None, 5L, 5L, 0L, 6L, 2L, 17L, 9L, None, 9L, 9L, 0L, None, 10L, 5L, None, 10L, 10L, 15L, None, 16L, 8L, 2L, 2L, 2L, None, 14L, 3L, 1L]\n"
     ]
    }
   ],
   "source": [
    "\n",
    "num = []\n",
    "\n",
    "for i in range (2, 35):\n",
    "    array.append([])\n",
    "    \n",
    "    num.append(sheet1.cell(row=i, column=5).value)\n",
    "\n",
    "print (num)"
   ]
  },
  {
   "cell_type": "code",
   "execution_count": 48,
   "metadata": {
    "collapsed": false
   },
   "outputs": [
    {
     "name": "stdout",
     "output_type": "stream",
     "text": [
      "[u'(%)', None, -50L, -50L, None, -28L, -28L, u'\\u2014', -33L, -11L, -94L, -50L, None, -50L, -50L, u'\\u2014', None, -56L, -28L, None, -56L, -56L, -83L, None, -89L, -44L, -11L, -11L, -11L, None, -78L, -17L, -6L]\n"
     ]
    }
   ],
   "source": [
    "perc = []\n",
    "\n",
    "for i in range (2, 35):\n",
    "    #array.append([])\n",
    "    \n",
    "    perc.append(sheet1.cell(row=i, column=6).value)\n",
    "\n",
    "print (perc)\n"
   ]
  },
  {
   "cell_type": "code",
   "execution_count": 76,
   "metadata": {
    "collapsed": false
   },
   "outputs": [
    {
     "name": "stdout",
     "output_type": "stream",
     "text": [
      "9\n",
      "9\n",
      "[u'No.', None, 9L, 9L, None, 5L, 5L, 0L, 6L, 2L, 17L, 9L, None, 9L, 9L, 0L, None, 10L, 5L, None, 10L, 10L, 15L, None, 16L, 8L, 2L, 2L, 2L, None, 14L, 3L, 1L]\n"
     ]
    }
   ],
   "source": [
    "for i in num:\n",
    "    #i.replace('L', ' ')\n",
    "    if i != None:\n",
    "        str(i).replace('L','') "
   ]
  },
  {
   "cell_type": "code",
   "execution_count": null,
   "metadata": {
    "collapsed": true
   },
   "outputs": [],
   "source": []
  }
 ],
 "metadata": {
  "kernelspec": {
   "display_name": "Python 2",
   "language": "python",
   "name": "python2"
  },
  "language_info": {
   "codemirror_mode": {
    "name": "ipython",
    "version": 2
   },
   "file_extension": ".py",
   "mimetype": "text/x-python",
   "name": "python",
   "nbconvert_exporter": "python",
   "pygments_lexer": "ipython2",
   "version": "2.7.11"
  }
 },
 "nbformat": 4,
 "nbformat_minor": 0
}
